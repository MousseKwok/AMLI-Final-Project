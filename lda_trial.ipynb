{
 "cells": [
  {
   "cell_type": "code",
   "execution_count": 1,
   "metadata": {},
   "outputs": [],
   "source": [
    "import pandas as pd"
   ]
  },
  {
   "cell_type": "code",
   "execution_count": 2,
   "metadata": {},
   "outputs": [],
   "source": [
    "data = pd.read_csv(\"csv_review_nlv.csv\")"
   ]
  },
  {
   "cell_type": "code",
   "execution_count": 7,
   "metadata": {},
   "outputs": [
    {
     "data": {
      "text/html": [
       "<div>\n",
       "<style scoped>\n",
       "    .dataframe tbody tr th:only-of-type {\n",
       "        vertical-align: middle;\n",
       "    }\n",
       "\n",
       "    .dataframe tbody tr th {\n",
       "        vertical-align: top;\n",
       "    }\n",
       "\n",
       "    .dataframe thead th {\n",
       "        text-align: right;\n",
       "    }\n",
       "</style>\n",
       "<table border=\"1\" class=\"dataframe\">\n",
       "  <thead>\n",
       "    <tr style=\"text-align: right;\">\n",
       "      <th></th>\n",
       "      <th>text</th>\n",
       "      <th>date</th>\n",
       "      <th>cool</th>\n",
       "      <th>funny</th>\n",
       "      <th>stars</th>\n",
       "      <th>business_id</th>\n",
       "      <th>useful</th>\n",
       "      <th>user_id</th>\n",
       "      <th>review_id</th>\n",
       "    </tr>\n",
       "  </thead>\n",
       "  <tbody>\n",
       "    <tr>\n",
       "      <th>0</th>\n",
       "      <td>Had the Tonkotsu ramen for lunch upon the reco...</td>\n",
       "      <td>2017-05-02 20:37:33 UTC</td>\n",
       "      <td>0</td>\n",
       "      <td>0</td>\n",
       "      <td>4</td>\n",
       "      <td>-DnaKAs2oK3rXfrjSvn9ew</td>\n",
       "      <td>0</td>\n",
       "      <td>70p7ZC7JNkAn4YHJL2oLqQ</td>\n",
       "      <td>SvrM4R0Sn1085JldYArCwA</td>\n",
       "    </tr>\n",
       "    <tr>\n",
       "      <th>1</th>\n",
       "      <td>Service was quick, food was excellent am glad ...</td>\n",
       "      <td>2015-10-09 01:30:39 UTC</td>\n",
       "      <td>0</td>\n",
       "      <td>0</td>\n",
       "      <td>5</td>\n",
       "      <td>-DnaKAs2oK3rXfrjSvn9ew</td>\n",
       "      <td>0</td>\n",
       "      <td>vRhxHrWwHpPDbzzKsCKIQw</td>\n",
       "      <td>6p-MEBAuZ4dhOA1k24vgdw</td>\n",
       "    </tr>\n",
       "    <tr>\n",
       "      <th>2</th>\n",
       "      <td>I actually think that the place is a 3.5, so, ...</td>\n",
       "      <td>2015-06-07 00:33:50 UTC</td>\n",
       "      <td>0</td>\n",
       "      <td>0</td>\n",
       "      <td>4</td>\n",
       "      <td>-DnaKAs2oK3rXfrjSvn9ew</td>\n",
       "      <td>0</td>\n",
       "      <td>Bxf1jhd66YvcI0GFTIh3yQ</td>\n",
       "      <td>5P--fn1aEuuzsRiIgRcfCA</td>\n",
       "    </tr>\n",
       "    <tr>\n",
       "      <th>3</th>\n",
       "      <td>I eat alot of ramen and alot of curry.. but i ...</td>\n",
       "      <td>2017-07-22 20:35:05 UTC</td>\n",
       "      <td>0</td>\n",
       "      <td>0</td>\n",
       "      <td>5</td>\n",
       "      <td>-DnaKAs2oK3rXfrjSvn9ew</td>\n",
       "      <td>0</td>\n",
       "      <td>eRwwZ7CjgDuywdNZ_mtgKQ</td>\n",
       "      <td>XJLHswUbJYbzj9CmHpIsSw</td>\n",
       "    </tr>\n",
       "    <tr>\n",
       "      <th>4</th>\n",
       "      <td>Stopped in on a whim with my husband. Our stom...</td>\n",
       "      <td>2016-01-03 02:22:19 UTC</td>\n",
       "      <td>0</td>\n",
       "      <td>0</td>\n",
       "      <td>5</td>\n",
       "      <td>-DnaKAs2oK3rXfrjSvn9ew</td>\n",
       "      <td>0</td>\n",
       "      <td>PBSkpQxdUzx-4LyvEgX1KQ</td>\n",
       "      <td>FieX2hOMO2R0z5hj59sXCg</td>\n",
       "    </tr>\n",
       "  </tbody>\n",
       "</table>\n",
       "</div>"
      ],
      "text/plain": [
       "                                                text                     date  \\\n",
       "0  Had the Tonkotsu ramen for lunch upon the reco...  2017-05-02 20:37:33 UTC   \n",
       "1  Service was quick, food was excellent am glad ...  2015-10-09 01:30:39 UTC   \n",
       "2  I actually think that the place is a 3.5, so, ...  2015-06-07 00:33:50 UTC   \n",
       "3  I eat alot of ramen and alot of curry.. but i ...  2017-07-22 20:35:05 UTC   \n",
       "4  Stopped in on a whim with my husband. Our stom...  2016-01-03 02:22:19 UTC   \n",
       "\n",
       "   cool  funny  stars             business_id  useful                 user_id  \\\n",
       "0     0      0      4  -DnaKAs2oK3rXfrjSvn9ew       0  70p7ZC7JNkAn4YHJL2oLqQ   \n",
       "1     0      0      5  -DnaKAs2oK3rXfrjSvn9ew       0  vRhxHrWwHpPDbzzKsCKIQw   \n",
       "2     0      0      4  -DnaKAs2oK3rXfrjSvn9ew       0  Bxf1jhd66YvcI0GFTIh3yQ   \n",
       "3     0      0      5  -DnaKAs2oK3rXfrjSvn9ew       0  eRwwZ7CjgDuywdNZ_mtgKQ   \n",
       "4     0      0      5  -DnaKAs2oK3rXfrjSvn9ew       0  PBSkpQxdUzx-4LyvEgX1KQ   \n",
       "\n",
       "                review_id  \n",
       "0  SvrM4R0Sn1085JldYArCwA  \n",
       "1  6p-MEBAuZ4dhOA1k24vgdw  \n",
       "2  5P--fn1aEuuzsRiIgRcfCA  \n",
       "3  XJLHswUbJYbzj9CmHpIsSw  \n",
       "4  FieX2hOMO2R0z5hj59sXCg  "
      ]
     },
     "execution_count": 7,
     "metadata": {},
     "output_type": "execute_result"
    }
   ],
   "source": [
    "data.head()"
   ]
  },
  {
   "cell_type": "code",
   "execution_count": 14,
   "metadata": {},
   "outputs": [
    {
     "name": "stderr",
     "output_type": "stream",
     "text": [
      "[nltk_data] Downloading package stopwords to\n",
      "[nltk_data]     C:\\Users\\7353228\\AppData\\Roaming\\nltk_data...\n",
      "[nltk_data]   Unzipping corpora\\stopwords.zip.\n"
     ]
    },
    {
     "data": {
      "text/plain": [
       "True"
      ]
     },
     "execution_count": 14,
     "metadata": {},
     "output_type": "execute_result"
    }
   ],
   "source": [
    "from gensim import corpora, models\n",
    "import nltk; nltk.download('stopwords')"
   ]
  },
  {
   "cell_type": "code",
   "execution_count": 17,
   "metadata": {},
   "outputs": [
    {
     "name": "stderr",
     "output_type": "stream",
     "text": [
      "C:\\Users\\7353228\\Anaconda\\lib\\site-packages\\past\\types\\oldstr.py:33: DeprecationWarning: invalid escape sequence \\d\n",
      "  \"\"\"\n"
     ]
    }
   ],
   "source": [
    "import re\n",
    "import numpy as np\n",
    "import pandas as pd\n",
    "from pprint import pprint\n",
    "\n",
    "# Gensim\n",
    "import gensim\n",
    "import gensim.corpora as corpora\n",
    "from gensim.utils import simple_preprocess\n",
    "from gensim.models import CoherenceModel\n",
    "\n",
    "# spacy for lemmatization\n",
    "import spacy\n",
    "\n",
    "# Plotting tools\n",
    "import pyLDAvis\n",
    "import pyLDAvis.gensim  # don't skip this\n",
    "import matplotlib.pyplot as plt\n",
    "%matplotlib inline\n",
    "\n",
    "# Enable logging for gensim - optional\n",
    "import logging\n",
    "logging.basicConfig(format='%(asctime)s : %(levelname)s : %(message)s', level=logging.ERROR)\n",
    "\n",
    "import warnings\n",
    "warnings.filterwarnings(\"ignore\",category=DeprecationWarning)\n",
    "\n",
    "import en_core_web_sm"
   ]
  },
  {
   "cell_type": "code",
   "execution_count": 31,
   "metadata": {},
   "outputs": [],
   "source": [
    "# NLTK Stop words\n",
    "from nltk.corpus import stopwords\n",
    "stop_words = stopwords.words('english')\n",
    "stop_words.extend(['from', 'subject', 're', 'edu', 'use'])\n"
   ]
  },
  {
   "cell_type": "code",
   "execution_count": 19,
   "metadata": {},
   "outputs": [
    {
     "data": {
      "text/html": [
       "<div>\n",
       "<style scoped>\n",
       "    .dataframe tbody tr th:only-of-type {\n",
       "        vertical-align: middle;\n",
       "    }\n",
       "\n",
       "    .dataframe tbody tr th {\n",
       "        vertical-align: top;\n",
       "    }\n",
       "\n",
       "    .dataframe thead th {\n",
       "        text-align: right;\n",
       "    }\n",
       "</style>\n",
       "<table border=\"1\" class=\"dataframe\">\n",
       "  <thead>\n",
       "    <tr style=\"text-align: right;\">\n",
       "      <th></th>\n",
       "      <th>text</th>\n",
       "      <th>date</th>\n",
       "      <th>cool</th>\n",
       "      <th>funny</th>\n",
       "      <th>stars</th>\n",
       "      <th>business_id</th>\n",
       "      <th>useful</th>\n",
       "      <th>user_id</th>\n",
       "      <th>review_id</th>\n",
       "    </tr>\n",
       "  </thead>\n",
       "  <tbody>\n",
       "    <tr>\n",
       "      <th>0</th>\n",
       "      <td>Had the Tonkotsu ramen for lunch upon the reco...</td>\n",
       "      <td>2017-05-02 20:37:33 UTC</td>\n",
       "      <td>0</td>\n",
       "      <td>0</td>\n",
       "      <td>4</td>\n",
       "      <td>-DnaKAs2oK3rXfrjSvn9ew</td>\n",
       "      <td>0</td>\n",
       "      <td>70p7ZC7JNkAn4YHJL2oLqQ</td>\n",
       "      <td>SvrM4R0Sn1085JldYArCwA</td>\n",
       "    </tr>\n",
       "    <tr>\n",
       "      <th>1</th>\n",
       "      <td>Service was quick, food was excellent am glad ...</td>\n",
       "      <td>2015-10-09 01:30:39 UTC</td>\n",
       "      <td>0</td>\n",
       "      <td>0</td>\n",
       "      <td>5</td>\n",
       "      <td>-DnaKAs2oK3rXfrjSvn9ew</td>\n",
       "      <td>0</td>\n",
       "      <td>vRhxHrWwHpPDbzzKsCKIQw</td>\n",
       "      <td>6p-MEBAuZ4dhOA1k24vgdw</td>\n",
       "    </tr>\n",
       "    <tr>\n",
       "      <th>2</th>\n",
       "      <td>I actually think that the place is a 3.5, so, ...</td>\n",
       "      <td>2015-06-07 00:33:50 UTC</td>\n",
       "      <td>0</td>\n",
       "      <td>0</td>\n",
       "      <td>4</td>\n",
       "      <td>-DnaKAs2oK3rXfrjSvn9ew</td>\n",
       "      <td>0</td>\n",
       "      <td>Bxf1jhd66YvcI0GFTIh3yQ</td>\n",
       "      <td>5P--fn1aEuuzsRiIgRcfCA</td>\n",
       "    </tr>\n",
       "    <tr>\n",
       "      <th>3</th>\n",
       "      <td>I eat alot of ramen and alot of curry.. but i ...</td>\n",
       "      <td>2017-07-22 20:35:05 UTC</td>\n",
       "      <td>0</td>\n",
       "      <td>0</td>\n",
       "      <td>5</td>\n",
       "      <td>-DnaKAs2oK3rXfrjSvn9ew</td>\n",
       "      <td>0</td>\n",
       "      <td>eRwwZ7CjgDuywdNZ_mtgKQ</td>\n",
       "      <td>XJLHswUbJYbzj9CmHpIsSw</td>\n",
       "    </tr>\n",
       "    <tr>\n",
       "      <th>4</th>\n",
       "      <td>Stopped in on a whim with my husband. Our stom...</td>\n",
       "      <td>2016-01-03 02:22:19 UTC</td>\n",
       "      <td>0</td>\n",
       "      <td>0</td>\n",
       "      <td>5</td>\n",
       "      <td>-DnaKAs2oK3rXfrjSvn9ew</td>\n",
       "      <td>0</td>\n",
       "      <td>PBSkpQxdUzx-4LyvEgX1KQ</td>\n",
       "      <td>FieX2hOMO2R0z5hj59sXCg</td>\n",
       "    </tr>\n",
       "  </tbody>\n",
       "</table>\n",
       "</div>"
      ],
      "text/plain": [
       "                                                text                     date  \\\n",
       "0  Had the Tonkotsu ramen for lunch upon the reco...  2017-05-02 20:37:33 UTC   \n",
       "1  Service was quick, food was excellent am glad ...  2015-10-09 01:30:39 UTC   \n",
       "2  I actually think that the place is a 3.5, so, ...  2015-06-07 00:33:50 UTC   \n",
       "3  I eat alot of ramen and alot of curry.. but i ...  2017-07-22 20:35:05 UTC   \n",
       "4  Stopped in on a whim with my husband. Our stom...  2016-01-03 02:22:19 UTC   \n",
       "\n",
       "   cool  funny  stars             business_id  useful                 user_id  \\\n",
       "0     0      0      4  -DnaKAs2oK3rXfrjSvn9ew       0  70p7ZC7JNkAn4YHJL2oLqQ   \n",
       "1     0      0      5  -DnaKAs2oK3rXfrjSvn9ew       0  vRhxHrWwHpPDbzzKsCKIQw   \n",
       "2     0      0      4  -DnaKAs2oK3rXfrjSvn9ew       0  Bxf1jhd66YvcI0GFTIh3yQ   \n",
       "3     0      0      5  -DnaKAs2oK3rXfrjSvn9ew       0  eRwwZ7CjgDuywdNZ_mtgKQ   \n",
       "4     0      0      5  -DnaKAs2oK3rXfrjSvn9ew       0  PBSkpQxdUzx-4LyvEgX1KQ   \n",
       "\n",
       "                review_id  \n",
       "0  SvrM4R0Sn1085JldYArCwA  \n",
       "1  6p-MEBAuZ4dhOA1k24vgdw  \n",
       "2  5P--fn1aEuuzsRiIgRcfCA  \n",
       "3  XJLHswUbJYbzj9CmHpIsSw  \n",
       "4  FieX2hOMO2R0z5hj59sXCg  "
      ]
     },
     "execution_count": 19,
     "metadata": {},
     "output_type": "execute_result"
    }
   ],
   "source": [
    "data.head()"
   ]
  },
  {
   "cell_type": "code",
   "execution_count": 21,
   "metadata": {},
   "outputs": [],
   "source": [
    "reviews = data.text.values.tolist()"
   ]
  },
  {
   "cell_type": "code",
   "execution_count": 22,
   "metadata": {},
   "outputs": [],
   "source": [
    "# Remove new line characters\n",
    "reviews = [re.sub('\\s+', ' ', sent) for sent in reviews]"
   ]
  },
  {
   "cell_type": "code",
   "execution_count": 23,
   "metadata": {},
   "outputs": [],
   "source": [
    "def sent_to_words(sentences):\n",
    "    for sentence in sentences:\n",
    "        yield(gensim.utils.simple_preprocess(str(sentence), deacc=True))  # deacc=True removes punctuations\n",
    "\n",
    "data_words = list(sent_to_words(reviews))"
   ]
  },
  {
   "cell_type": "code",
   "execution_count": 32,
   "metadata": {},
   "outputs": [
    {
     "data": {
      "text/plain": [
       "['service',\n",
       " 'was',\n",
       " 'quick',\n",
       " 'food',\n",
       " 'was',\n",
       " 'excellent',\n",
       " 'am',\n",
       " 'glad',\n",
       " 'my',\n",
       " 'wife',\n",
       " 'and',\n",
       " 'daughter',\n",
       " 'saw',\n",
       " 'this',\n",
       " 'place',\n",
       " 'and',\n",
       " 'read',\n",
       " 'the',\n",
       " 'reviews',\n",
       " 'before',\n",
       " 'we',\n",
       " 'went',\n",
       " 'to',\n",
       " 'the',\n",
       " 'cannery',\n",
       " 'buffet']"
      ]
     },
     "execution_count": 32,
     "metadata": {},
     "output_type": "execute_result"
    }
   ],
   "source": [
    "data_words[1]"
   ]
  },
  {
   "cell_type": "code",
   "execution_count": 25,
   "metadata": {},
   "outputs": [
    {
     "name": "stdout",
     "output_type": "stream",
     "text": [
      "['had', 'the', 'tonkotsu_ramen', 'for', 'lunch', 'upon', 'the', 'recommendation', 'from', 'co_worker', 'very', 'well', 'made', 'with', 'tasty', 'broth', 'the', 'slices', 'of', 'pork', 'just', 'melted', 'in', 'my', 'mouth', 'very', 'filling', 'and', 'tasty', 'have', 'returned', 'to', 'try', 'out', 'some', 'of', 'the', 'other', 'soups', 'update', 'the', 'vegetable', 'udon', 'noodle_soup', 'was', 'also', 'very', 'good', 'the', 'ambience', 'and', 'decor', 'need', 'some', 'work', 'but', 'the', 'service', 'is', 'very', 'courteous', 'and', 'the', 'soups', 'are', 'great']\n"
     ]
    }
   ],
   "source": [
    "# Build the bigram and trigram models\n",
    "bigram = gensim.models.Phrases(data_words, min_count=5, threshold=100) # higher threshold fewer phrases.\n",
    "trigram = gensim.models.Phrases(bigram[data_words], threshold=100)  \n",
    "\n",
    "# Faster way to get a sentence clubbed as a trigram/bigram\n",
    "bigram_mod = gensim.models.phrases.Phraser(bigram)\n",
    "trigram_mod = gensim.models.phrases.Phraser(trigram)\n",
    "\n",
    "# See trigram example\n",
    "print(trigram_mod[bigram_mod[data_words[0]]])"
   ]
  },
  {
   "cell_type": "code",
   "execution_count": 26,
   "metadata": {},
   "outputs": [],
   "source": [
    "# Define functions for stopwords, bigrams, trigrams and lemmatization\n",
    "def remove_stopwords(texts):\n",
    "    return [[word for word in simple_preprocess(str(doc)) if word not in stop_words] for doc in texts]\n",
    "\n",
    "def make_bigrams(texts):\n",
    "    return [bigram_mod[doc] for doc in texts]\n",
    "\n",
    "def make_trigrams(texts):\n",
    "    return [trigram_mod[bigram_mod[doc]] for doc in texts]\n",
    "\n",
    "def lemmatization(texts, allowed_postags=['NOUN', 'ADJ', 'VERB', 'ADV']):\n",
    "    \"\"\"https://spacy.io/api/annotation\"\"\"\n",
    "    texts_out = []\n",
    "    for sent in texts:\n",
    "        doc = nlp(\" \".join(sent)) \n",
    "        texts_out.append([token.lemma_ for token in doc if token.pos_ in allowed_postags])\n",
    "    return texts_out"
   ]
  },
  {
   "cell_type": "code",
   "execution_count": null,
   "metadata": {},
   "outputs": [],
   "source": [
    "# Remove Stop Words\n",
    "data_words_nostops = remove_stopwords(data_words)\n",
    "\n",
    "# Form Bigrams\n",
    "data_words_bigrams = make_bigrams(data_words_nostops)\n",
    "\n",
    "# Initialize spacy 'en' model, keeping only tagger component (for efficiency)\n",
    "#python3 -m spacy download en\n",
    "nlp = en_core_web_sm.load()\n",
    "\n",
    "# Do lemmatization keeping only noun, adj, vb, adv\n",
    "data_lemmatized = lemmatization(data_words_bigrams, allowed_postags=['NOUN', 'ADJ', 'VERB', 'ADV'])\n",
    "\n",
    "print(data_lemmatized[:1])"
   ]
  }
 ],
 "metadata": {
  "kernelspec": {
   "display_name": "Python 3",
   "language": "python",
   "name": "python3"
  },
  "language_info": {
   "codemirror_mode": {
    "name": "ipython",
    "version": 3
   },
   "file_extension": ".py",
   "mimetype": "text/x-python",
   "name": "python",
   "nbconvert_exporter": "python",
   "pygments_lexer": "ipython3",
   "version": "3.7.3"
  }
 },
 "nbformat": 4,
 "nbformat_minor": 2
}
