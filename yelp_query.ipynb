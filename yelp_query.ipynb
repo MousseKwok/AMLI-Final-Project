{
 "cells": [
  {
   "cell_type": "markdown",
   "metadata": {},
   "source": [
    "Using SQL to query the data and then convert it to csv files"
   ]
  },
  {
   "cell_type": "code",
   "execution_count": 10,
   "metadata": {},
   "outputs": [],
   "source": [
    "from google.cloud import bigquery\n",
    "import pandas as pd"
   ]
  },
  {
   "cell_type": "code",
   "execution_count": 11,
   "metadata": {},
   "outputs": [
    {
     "name": "stdout",
     "output_type": "stream",
     "text": [
      "Client creating using default project: rugged-sunbeam-246218\n"
     ]
    }
   ],
   "source": [
    "client = bigquery.Client(location=\"US\")\n",
    "print(\"Client creating using default project: {}\".format(client.project))"
   ]
  },
  {
   "cell_type": "markdown",
   "metadata": {},
   "source": [
    "Top 10 cities that have th most restaurants with > 100 reviews (Yelp Dataset doesn't have data for some of the bigger cities)"
   ]
  },
  {
   "cell_type": "code",
   "execution_count": 12,
   "metadata": {},
   "outputs": [],
   "source": [
    "query = \"\"\"\n",
    "SELECT city, count(city) as counts\n",
    "FROM `rugged-sunbeam-246218.reviews.all_yelp_businesses`\n",
    "WHERE review_count>100\n",
    "AND REGEXP_CONTAINS(categories, r'Restaurants')\n",
    "GROUP BY city\n",
    "ORDER BY count(city) desc\n",
    "LIMIT 10\n",
    "\"\"\""
   ]
  },
  {
   "cell_type": "code",
   "execution_count": 13,
   "metadata": {},
   "outputs": [
    {
     "data": {
      "text/html": [
       "<div>\n",
       "<style scoped>\n",
       "    .dataframe tbody tr th:only-of-type {\n",
       "        vertical-align: middle;\n",
       "    }\n",
       "\n",
       "    .dataframe tbody tr th {\n",
       "        vertical-align: top;\n",
       "    }\n",
       "\n",
       "    .dataframe thead th {\n",
       "        text-align: right;\n",
       "    }\n",
       "</style>\n",
       "<table border=\"1\" class=\"dataframe\">\n",
       "  <thead>\n",
       "    <tr style=\"text-align: right;\">\n",
       "      <th></th>\n",
       "      <th>city</th>\n",
       "      <th>counts</th>\n",
       "    </tr>\n",
       "  </thead>\n",
       "  <tbody>\n",
       "    <tr>\n",
       "      <th>0</th>\n",
       "      <td>Las Vegas</td>\n",
       "      <td>2353</td>\n",
       "    </tr>\n",
       "    <tr>\n",
       "      <th>1</th>\n",
       "      <td>Phoenix</td>\n",
       "      <td>1102</td>\n",
       "    </tr>\n",
       "    <tr>\n",
       "      <th>2</th>\n",
       "      <td>Toronto</td>\n",
       "      <td>933</td>\n",
       "    </tr>\n",
       "    <tr>\n",
       "      <th>3</th>\n",
       "      <td>Scottsdale</td>\n",
       "      <td>597</td>\n",
       "    </tr>\n",
       "    <tr>\n",
       "      <th>4</th>\n",
       "      <td>Charlotte</td>\n",
       "      <td>582</td>\n",
       "    </tr>\n",
       "    <tr>\n",
       "      <th>5</th>\n",
       "      <td>Pittsburgh</td>\n",
       "      <td>442</td>\n",
       "    </tr>\n",
       "    <tr>\n",
       "      <th>6</th>\n",
       "      <td>Tempe</td>\n",
       "      <td>332</td>\n",
       "    </tr>\n",
       "    <tr>\n",
       "      <th>7</th>\n",
       "      <td>Henderson</td>\n",
       "      <td>306</td>\n",
       "    </tr>\n",
       "    <tr>\n",
       "      <th>8</th>\n",
       "      <td>Chandler</td>\n",
       "      <td>294</td>\n",
       "    </tr>\n",
       "    <tr>\n",
       "      <th>9</th>\n",
       "      <td>Mesa</td>\n",
       "      <td>284</td>\n",
       "    </tr>\n",
       "  </tbody>\n",
       "</table>\n",
       "</div>"
      ],
      "text/plain": [
       "         city  counts\n",
       "0   Las Vegas    2353\n",
       "1     Phoenix    1102\n",
       "2     Toronto     933\n",
       "3  Scottsdale     597\n",
       "4   Charlotte     582\n",
       "5  Pittsburgh     442\n",
       "6       Tempe     332\n",
       "7   Henderson     306\n",
       "8    Chandler     294\n",
       "9        Mesa     284"
      ]
     },
     "execution_count": 13,
     "metadata": {},
     "output_type": "execute_result"
    }
   ],
   "source": [
    "client.query(query).to_dataframe()"
   ]
  },
  {
   "cell_type": "markdown",
   "metadata": {},
   "source": [
    "Chose 3 cities - Charlotte, Pittsburgh, Mesa"
   ]
  },
  {
   "cell_type": "code",
   "execution_count": 14,
   "metadata": {},
   "outputs": [],
   "source": [
    "query_mesa = \"\"\"\n",
    "SELECT address,city,is_open,latitude,longitude,name,text,`rugged-sunbeam-246218.reviews.all_yelp_businesses`.stars, `rugged-sunbeam-246218.reviews.all_yelp_businesses`.business_id\n",
    "FROM `rugged-sunbeam-246218.reviews.all_yelp_businesses`\n",
    "     INNER JOIN `rugged-sunbeam-246218.reviews.all_yelp_reviews`\n",
    "ON `rugged-sunbeam-246218.reviews.all_yelp_businesses`.business_id =\n",
    "    `rugged-sunbeam-246218.reviews.all_yelp_reviews`.business_id\n",
    "WHERE review_count>100\n",
    "AND REGEXP_CONTAINS(categories, r'Restaurants')\n",
    "AND city = \"Mesa\"\n",
    "\n",
    "\"\"\""
   ]
  },
  {
   "cell_type": "code",
   "execution_count": 15,
   "metadata": {},
   "outputs": [],
   "source": [
    "query_pittsburgh = \"\"\"\n",
    "SELECT address,city,is_open,latitude,longitude,name,text,`rugged-sunbeam-246218.reviews.all_yelp_businesses`.stars, `rugged-sunbeam-246218.reviews.all_yelp_businesses`.business_id\n",
    "FROM `rugged-sunbeam-246218.reviews.all_yelp_businesses`\n",
    "     INNER JOIN `rugged-sunbeam-246218.reviews.all_yelp_reviews`\n",
    "ON `rugged-sunbeam-246218.reviews.all_yelp_businesses`.business_id =\n",
    "    `rugged-sunbeam-246218.reviews.all_yelp_reviews`.business_id\n",
    "WHERE review_count>100\n",
    "AND REGEXP_CONTAINS(categories, r'Restaurants')\n",
    "AND city = \"Pittsburgh\"\n",
    "\n",
    "\"\"\""
   ]
  },
  {
   "cell_type": "code",
   "execution_count": 16,
   "metadata": {},
   "outputs": [],
   "source": [
    "query_charlotte = \"\"\"\n",
    "SELECT address,city,is_open,latitude,longitude,name,text,`rugged-sunbeam-246218.reviews.all_yelp_businesses`.stars, `rugged-sunbeam-246218.reviews.all_yelp_businesses`.business_id\n",
    "FROM `rugged-sunbeam-246218.reviews.all_yelp_businesses`\n",
    "     INNER JOIN `rugged-sunbeam-246218.reviews.all_yelp_reviews`\n",
    "ON `rugged-sunbeam-246218.reviews.all_yelp_businesses`.business_id =\n",
    "    `rugged-sunbeam-246218.reviews.all_yelp_reviews`.business_id\n",
    "WHERE review_count>100\n",
    "AND REGEXP_CONTAINS(categories, r'Restaurants')\n",
    "AND city = \"Charlotte\"\n",
    "\n",
    "\"\"\""
   ]
  },
  {
   "cell_type": "markdown",
   "metadata": {},
   "source": [
    "Converting query to df and then to csv"
   ]
  },
  {
   "cell_type": "code",
   "execution_count": 17,
   "metadata": {},
   "outputs": [],
   "source": [
    "mesa = client.query(query_mesa).to_dataframe()\n",
    "charlotte = client.query(query_charlotte).to_dataframe()\n",
    "pittsburgh = client.query(query_pittsburgh).to_dataframe()"
   ]
  },
  {
   "cell_type": "code",
   "execution_count": 18,
   "metadata": {},
   "outputs": [],
   "source": [
    "mesa.to_csv(\"mesa_reviews.csv\")\n",
    "charlotte.to_csv(\"charlotte_reviews.csv\")\n",
    "pittsburgh.to_csv(\"pittsburgh_reviews.csv\")"
   ]
  },
  {
   "cell_type": "code",
   "execution_count": null,
   "metadata": {},
   "outputs": [],
   "source": []
  }
 ],
 "metadata": {
  "kernelspec": {
   "display_name": "Python 3",
   "language": "python",
   "name": "python3"
  },
  "language_info": {
   "codemirror_mode": {
    "name": "ipython",
    "version": 3
   },
   "file_extension": ".py",
   "mimetype": "text/x-python",
   "name": "python",
   "nbconvert_exporter": "python",
   "pygments_lexer": "ipython3",
   "version": "3.5.3"
  }
 },
 "nbformat": 4,
 "nbformat_minor": 2
}
