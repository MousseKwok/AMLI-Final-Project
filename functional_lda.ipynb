{
  "nbformat": 4,
  "nbformat_minor": 0,
  "metadata": {
    "colab": {
      "name": "FunctionLDA.ipynb",
      "version": "0.3.2",
      "provenance": [],
      "collapsed_sections": []
    },
    "kernelspec": {
      "name": "python3",
      "display_name": "Python 3"
    }
  },
  "cells": [
    {
      "cell_type": "code",
      "metadata": {
        "id": "q7TpVKeITKFY",
        "colab_type": "code",
        "colab": {}
      },
      "source": [
        "# import dependencies\n",
        "import pandas as pd\n",
        "import numpy as np\n",
        "from sklearn.model_selection import train_test_split\n",
        "import nltk\n",
        "from nltk.corpus import stopwords\n",
        "import gensim\n",
        "from gensim.models import CoherenceModel, LdaModel, LsiModel, HdpModel\n",
        "from gensim import models, corpora, similarities\n",
        "import re\n",
        "from nltk.stem.porter import PorterStemmer\n",
        "import time\n",
        "from nltk import FreqDist\n",
        "from scipy.stats import entropy\n",
        "import matplotlib.pyplot as plt\n",
        "\n",
        "nltk.download('averaged_perceptron_tagger')\n",
        "nltk.download('stopwords')\n",
        "nltk.download('punkt')\n",
        "print('Downloads Complete')"
      ],
      "execution_count": 0,
      "outputs": []
    },
    {
      "cell_type": "code",
      "metadata": {
        "id": "fbTRSwxgTvUC",
        "colab_type": "code",
        "colab": {}
      },
      "source": [
        "def initial_clean(text):\n",
        "    text = re.sub(\"((\\S+)?(http(s)?)(\\S+))|((\\S+)?(www)(\\S+))|((\\S+)?(\\@)(\\S+)?)\", \" \", text)\n",
        "    text = re.sub(\"[^a-zA-Z ]\", \"\", text)\n",
        "    text = text.lower() # lower case the text\n",
        "    text = nltk.word_tokenize(text)\n",
        "    return text\n",
        "\n",
        "stop_words = stopwords.words('english')\n",
        "def remove_stop_words(text):\n",
        "    return [word for word in text if word not in stop_words]\n",
        "\n",
        "def pos(word):\n",
        "    return nltk.pos_tag([word])[0][1]\n",
        "\n",
        "informative_pos = ('JJ','VB', 'NN','RBS','VBP','IN','RBR','JJR','JJS','PDT','RP','UH','FW','NNS','VBN','VBG')\n",
        "def remove_uninformative_pos(text):\n",
        "    tagged_words = nltk.pos_tag(text)\n",
        "    return [word for word, tag in tagged_words if tag in informative_pos]\n",
        "  \n",
        "clutter = ['food','place','good','order','great','like',\n",
        "           'service','time','go','ordered','get','love',\n",
        "           'best','come','eat','dont','tried','try','ask',\n",
        "           'nice','restaurant','ive','im','didnt']\n",
        "def remove_garbage(text):\n",
        "  return [word for word in text if word not in clutter]\n",
        "\n",
        "stemmer = PorterStemmer()\n",
        "def stem_words(text):\n",
        "    try:\n",
        "        text = [stemmer.stem(word) for word in text]\n",
        "        text = [word for word in text if len(word) > 1] # make sure we have no 1 letter words\n",
        "    except IndexError: # the word \"oed\" broke this, so needed try except\n",
        "        pass\n",
        "    return text\n",
        "\n",
        "def apply_all(text):\n",
        "    return stem_words(remove_garbage(remove_uninformative_pos(remove_stop_words(initial_clean(text)))))"
      ],
      "execution_count": 0,
      "outputs": []
    },
    {
      "cell_type": "code",
      "metadata": {
        "id": "sbaeAOu4XmKV",
        "colab_type": "code",
        "colab": {}
      },
      "source": [
        "csv_name = 'csv_reviews_mesa.csv'"
      ],
      "execution_count": 0,
      "outputs": []
    },
    {
      "cell_type": "code",
      "metadata": {
        "id": "YdR22g-xTOCV",
        "colab_type": "code",
        "colab": {}
      },
      "source": [
        "# format the columns\n",
        "df = pd.read_csv(csv_name)\n",
        "df = df.groupby(['name'])['text'].apply(' '.join).reset_index()\n",
        "df = df[df['text'].map(type) == str]\n",
        "df.dropna(axis=0, inplace=True, subset=['text'])\n",
        "\n",
        "# preprocess the text and business name and create new column \"tokenized\"\n",
        "t1 = time.time()\n",
        "df['tokenized'] = df['text'].apply(apply_all)\n",
        "t2 = time.time()\n",
        "print(\"Time to clean and tokenize\", len(df), \"businesses' reviews:\", (t2-t1)/60, \"min\")"
      ],
      "execution_count": 0,
      "outputs": []
    },
    {
      "cell_type": "code",
      "metadata": {
        "id": "_EiI6qhWCC7S",
        "colab_type": "code",
        "colab": {}
      },
      "source": [
        "num_topics = 12\n",
        "k = 10000"
      ],
      "execution_count": 0,
      "outputs": []
    },
    {
      "cell_type": "code",
      "metadata": {
        "id": "vXAL6BaNTf9Y",
        "colab_type": "code",
        "colab": {}
      },
      "source": [
        "# first get a list of all words\n",
        "all_words = [word for item in list(df['tokenized']) for word in item]\n",
        "\n",
        "# use nltk fdist to get a frequency distribution of all words\n",
        "fdist = FreqDist(all_words)\n",
        "\n",
        "# define a function only to keep words in the top k words\n",
        "top_k_words,_ = zip(*fdist.most_common(k))\n",
        "top_k_words = set(top_k_words)\n",
        "def keep_top_k_words(text):\n",
        "    return [word for word in text if word in top_k_words]\n",
        "df['tokenized'] = df['tokenized'].apply(keep_top_k_words)"
      ],
      "execution_count": 0,
      "outputs": []
    },
    {
      "cell_type": "code",
      "metadata": {
        "id": "VOMcVS6WTeJz",
        "colab_type": "code",
        "colab": {}
      },
      "source": [
        "def train_hdp(data):\n",
        "    \"\"\"\n",
        "    This function trains the hdp model\n",
        "    We setup parameters like number of topics, the chunksize to use in Hoffman method\n",
        "    \"\"\"\n",
        "    dictionary = corpora.Dictionary(data['tokenized'])\n",
        "    corpus = [dictionary.doc2bow(doc) for doc in data['tokenized']]\n",
        "    t1 = time.time()\n",
        "    # low alpha means each document is only represented by a small number of topics, and vice versa\n",
        "    # low eta means each topic is only represented by a small number of words, and vice versa\n",
        "    hdp = HdpModel(corpus=corpus, id2word=dictionary)\n",
        "    t2 = time.time()\n",
        "    print(\"Time to train HDP model on \", len(df), \"businesses: \", (t2-t1)/60, \"min\")\n",
        "    return dictionary,corpus,hdp\n",
        "  \n",
        "# train the topic model\n",
        "dictionary,corpus,hdp = train_hdp(df)\n",
        "\n",
        "# get the topic distribution\n",
        "doc_topic_dist = np.array([[tup[1] for tup in lst] for lst in hdp[corpus]])"
      ],
      "execution_count": 0,
      "outputs": []
    },
    {
      "cell_type": "code",
      "metadata": {
        "id": "2wpMk8BETxnA",
        "colab_type": "code",
        "colab": {}
      },
      "source": [
        "def train_lda(data, chunksize):\n",
        "    \"\"\"\n",
        "    This function trains the lda model\n",
        "    We setup parameters like number of topics, the chunksize to use in Hoffman method\n",
        "    \"\"\"\n",
        "    dictionary = corpora.Dictionary(data['tokenized'])\n",
        "    corpus = [dictionary.doc2bow(doc) for doc in data['tokenized']]\n",
        "    t1 = time.time()\n",
        "    # low alpha means each document is only represented by a small number of topics, and vice versa\n",
        "    # low eta means each topic is only represented by a small number of words, and vice versa\n",
        "    lda = LdaModel(corpus=corpus, num_topics=num_topics, id2word=dictionary,\n",
        "                   alpha=1e-2, eta=0.5e-2, chunksize=chunksize, minimum_probability=0.0, passes=1)\n",
        "    t2 = time.time()\n",
        "    print(\"Time to train LDA model on \", len(df), \"businesses: \", (t2-t1)/60, \"min\")\n",
        "    return dictionary,corpus,lda\n",
        "  \n",
        "# train the topic model\n",
        "dictionary,corpus,lda = train_lda(df, 300)\n",
        "\n",
        "# get the topic distribution\n",
        "doc_topic_dist = np.array([[tup[1] for tup in lst] for lst in lda[corpus]])"
      ],
      "execution_count": 0,
      "outputs": []
    },
    {
      "cell_type": "code",
      "metadata": {
        "id": "6WS1yYiW9Ehc",
        "colab_type": "code",
        "colab": {}
      },
      "source": [
        "def train_lsi(data):\n",
        "    \"\"\"\n",
        "    This function trains the lsi model\n",
        "    We setup parameters like number of topics, the chunksize to use in Hoffman method\n",
        "    \"\"\"\n",
        "    dictionary = corpora.Dictionary(data['tokenized'])\n",
        "    corpus = [dictionary.doc2bow(doc) for doc in data['tokenized']]\n",
        "    t1 = time.time()\n",
        "    # low alpha means each document is only represented by a small number of topics, and vice versa\n",
        "    # low eta means each topic is only represented by a small number of words, and vice versa\n",
        "    lsi = LsiModel(corpus=corpus, num_topics=num_topics, id2word=dictionary,)\n",
        "    t2 = time.time()\n",
        "    print(\"Time to train LSI model on \", len(df), \"businesses: \", (t2-t1)/60, \"min\")\n",
        "    return dictionary,corpus,lsi\n",
        "  \n",
        "# train the topic model\n",
        "dictionary,corpus,lsi = train_lsi(df)\n",
        "\n",
        "# get the topic distribution\n",
        "doc_topic_dist = np.array([[tup[1] for tup in lst] for lst in lsi[corpus]])"
      ],
      "execution_count": 0,
      "outputs": []
    },
    {
      "cell_type": "code",
      "metadata": {
        "id": "qhetpyaHWLUm",
        "colab_type": "code",
        "colab": {}
      },
      "source": [
        "query = pd.read_csv(csv_name)\n",
        "query = query.loc[query['name']==\"Alessia's Ristorante Italiano\"]\n",
        "query = query.groupby(['name'])['text'].apply(' '.join).reset_index()\n",
        "query = query[query['text'].map(type) == str]\n",
        "query.dropna(axis=0, inplace=True, subset=['text'])\n",
        "query['tokenized'] = query['text'].apply(apply_all)"
      ],
      "execution_count": 0,
      "outputs": []
    },
    {
      "cell_type": "code",
      "metadata": {
        "id": "wP-SK_5PNlID",
        "colab_type": "code",
        "colab": {}
      },
      "source": [
        "def jensen_shannon(query, matrix):\n",
        "    \"\"\"\n",
        "    This function implements a Jensen-Shannon similarity\n",
        "    between the input query (an LDA topic distribution for a document)\n",
        "    and the entire corpus of topic distributions.\n",
        "    It returns an array of length M where M is the number of documents in the corpus\n",
        "    \"\"\"\n",
        "    # lets keep with the p,q notation above\n",
        "    p = query[None,:].T # take transpose\n",
        "    q = matrix.T # transpose matrix\n",
        "    m = 0.5*(p + q)\n",
        "    return np.sqrt(0.5*(entropy(p,m) + entropy(q,m)))\n",
        "  \n",
        "def get_most_similar_documents(query,matrix,k=10):\n",
        "    \"\"\"\n",
        "    This function implements the Jensen-Shannon distance above\n",
        "    and retruns the top k indices of the smallest jensen shannon distances\n",
        "    \"\"\"\n",
        "    sims = jensen_shannon(query,matrix) # list of jensen shannon distances\n",
        "    return sims.argsort()[:k] # the top k positional index of the smallest Jensen Shannon distances"
      ],
      "execution_count": 0,
      "outputs": []
    },
    {
      "cell_type": "code",
      "metadata": {
        "id": "zONtAIhpfIV_",
        "colab_type": "code",
        "colab": {}
      },
      "source": [
        "# get the ids of the most similar businesses\n",
        "new_bow = dictionary.doc2bow(query.iloc[0,2])\n",
        "new_doc_distribution = np.array([tup[1] for tup in lda.get_document_topics(bow=new_bow)])\n",
        "most_sim_ids = get_most_similar_documents(new_doc_distribution,doc_topic_dist)\n",
        "\n",
        "# print the results\n",
        "most_similar_df = df[df.index.isin(most_sim_ids)]\n",
        "print('Similar to \"{}\": \\n{}'.format(query['name'][0], most_similar_df['name'].reset_index(drop=True)))"
      ],
      "execution_count": 0,
      "outputs": []
    },
    {
      "cell_type": "code",
      "metadata": {
        "id": "BjGgDOI85H9k",
        "colab_type": "code",
        "colab": {}
      },
      "source": [
        "# Compute Coherence Score using c_v\n",
        "coherence_model = CoherenceModel(model=lda, texts=df['tokenized'], dictionary=dictionary, coherence='c_v')\n",
        "coherence_score = coherence_model.get_coherence()\n",
        "print('\\nCoherence Score: ', coherence_score)"
      ],
      "execution_count": 0,
      "outputs": []
    },
    {
      "cell_type": "code",
      "metadata": {
        "id": "lDBy4J73vH3B",
        "colab_type": "code",
        "colab": {}
      },
      "source": [
        "# import pickle\n",
        "\n",
        "# pickle.dump(doc_topic_dist,open(\"processor.pkl\",\"wb\"))\n",
        "# preprocessed = pickle.load(open(\"processor.pkl\",\"rb\"))\n",
        "\n",
        "# most_sim_ids = get_most_similar_documents(new_doc_distribution,preprocessed)\n",
        "\n",
        "# # print the results\n",
        "# most_similar_df = df[df.index.isin(most_sim_ids)]\n",
        "# print('Similar to \"{}\": \\n{}'.format(query['name'][0], most_similar_df['name'].reset_index(drop=True)))"
      ],
      "execution_count": 0,
      "outputs": []
    },
    {
      "cell_type": "code",
      "metadata": {
        "id": "_OTkrbs7zvoo",
        "colab_type": "code",
        "colab": {}
      },
      "source": [
        "# def process_query(preprocessed, query):\n",
        "#   # SQL to pandas DataFrame w/ query\n",
        "#   query = query.groupby(['name'])['text'].apply(' '.join).reset_index()\n",
        "#   query = query[query['text'].map(type) == str]\n",
        "#   query.dropna(axis=0, inplace=True, subset=['text'])\n",
        "#   query['tokenized'] = query['text'].apply(apply_all)\n",
        "  \n",
        "#   # read the cached pickle\n",
        "#   preprocessed = pickle.load(open(\"processor.pkl\",\"rb\"))\n",
        "  \n",
        "#   # get the ids of the most similar businesses\n",
        "#   new_bow = dictionary.doc2bow(query.iloc[0,2])\n",
        "#   new_doc_distribution = np.array([tup[1] for tup in lda.get_document_topics(bow=new_bow)])\n",
        "#   most_sim_ids = get_most_similar_documents(new_doc_distribution,preprocessed)\n",
        "\n",
        "#   # print the results\n",
        "#   most_similar_df = df[df.index.isin(most_sim_ids)]\n",
        "#   print('Similar to \"{}\": \\n{}'.format(query['name'][0], most_similar_df['name'].reset_index(drop=True)))"
      ],
      "execution_count": 0,
      "outputs": []
    },
    {
      "cell_type": "code",
      "metadata": {
        "id": "edspkMuuWS4c",
        "colab_type": "code",
        "colab": {}
      },
      "source": [
        "def evaluate_graph(dictionary, corpus, texts, limit):\n",
        "    \"\"\"\n",
        "    Function to display num_topics - LDA graph using c_v coherence\n",
        "    \n",
        "    Parameters:\n",
        "    ----------\n",
        "    dictionary : Gensim dictionary\n",
        "    corpus : Gensim corpus\n",
        "    limit : topic limit\n",
        "    \n",
        "    Returns:\n",
        "    -------\n",
        "    lm_list : List of LDA topic models\n",
        "    c_v : Coherence values corresponding to the LDA model with respective number of topics\n",
        "    \"\"\"\n",
        "    c_v = []\n",
        "    lm_list = []\n",
        "    step = 1\n",
        "    for num_topics in range(60, limit, step):\n",
        "        lm = LdaModel(corpus=corpus, num_topics=num_topics, id2word=dictionary)\n",
        "        lm_list.append(lm)\n",
        "        cm = CoherenceModel(model=lm, texts=texts, dictionary=dictionary, coherence='c_v')\n",
        "        c_v.append(cm.get_coherence())\n",
        "        print('Level {} Complete'.format(num_topics))\n",
        "        \n",
        "    # Show graph\n",
        "    x = range(60, limit, step)\n",
        "    plt.plot(x, c_v)\n",
        "    plt.xlabel(\"num_topics\")\n",
        "    plt.ylabel(\"Coherence score\")\n",
        "    plt.legend((\"c_v\"), loc='best')\n",
        "    plt.show()\n",
        "    \n",
        "    return lm_list, c_v"
      ],
      "execution_count": 0,
      "outputs": []
    },
    {
      "cell_type": "code",
      "metadata": {
        "id": "Pk1K7LXlWxHP",
        "colab_type": "code",
        "colab": {}
      },
      "source": [
        "%%time\n",
        "lmlist, c_v = evaluate_graph(dictionary=dictionary, corpus=corpus, texts=df['tokenized'], limit=70)"
      ],
      "execution_count": 0,
      "outputs": []
    }
  ]
}