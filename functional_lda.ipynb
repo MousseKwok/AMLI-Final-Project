{
 "metadata": {
  "colab": {
   "collapsed_sections": [],
   "name": "FunctionLDA.ipynb",
   "provenance": [],
   "version": "0.3.2"
  },
  "kernelspec": {
   "display_name": "Python 3",
   "name": "python3"
  },
  "name": ""
 },
 "nbformat": 3,
 "nbformat_minor": 0,
 "worksheets": [
  {
   "cells": [
    {
     "cell_type": "code",
     "collapsed": false,
     "input": [
      "csv_name = 'reviews_pittsburgh.csv'"
     ],
     "language": "python",
     "metadata": {
      "colab": {},
      "colab_type": "code",
      "id": "sbaeAOu4XmKV"
     },
     "outputs": [],
     "prompt_number": 0
    },
    {
     "cell_type": "code",
     "collapsed": false,
     "input": [
      "# import dependencies\n",
      "import pandas as pd\n",
      "import numpy as np\n",
      "from sklearn.model_selection import train_test_split\n",
      "import nltk\n",
      "from nltk.corpus import stopwords\n",
      "import gensim\n",
      "from gensim.models import LdaModel\n",
      "from gensim import models, corpora, similarities\n",
      "import re\n",
      "from nltk.stem.porter import PorterStemmer\n",
      "import time\n",
      "from nltk import FreqDist\n",
      "from gensim.models import HdpModel\n",
      "from scipy.stats import entropy\n",
      "from gensim.models.coherencemodel import CoherenceModel\n",
      "nltk.download('stopwords')\n",
      "nltk.download('punkt')\n",
      "print('Downloads Complete')\n",
      "\n",
      "stop_words = stopwords.words('english')"
     ],
     "language": "python",
     "metadata": {
      "colab": {
       "base_uri": "https://localhost:8080/",
       "height": 108
      },
      "colab_type": "code",
      "id": "q7TpVKeITKFY",
      "outputId": "9ddd26a8-f7be-4dc0-bfb7-b546d143f168"
     },
     "outputs": [],
     "prompt_number": 0
    },
    {
     "cell_type": "code",
     "collapsed": false,
     "input": [
      "def initial_clean(text):\n",
      "    \"\"\"\n",
      "    Function to clean text of websites, email addresess and any punctuation\n",
      "    We also lower case the text\n",
      "    \"\"\"\n",
      "    text = re.sub(\"((\\S+)?(http(s)?)(\\S+))|((\\S+)?(www)(\\S+))|((\\S+)?(\\@)(\\S+)?)\", \" \", text)\n",
      "    text = re.sub(\"[^a-zA-Z ]\", \"\", text)\n",
      "    text = text.lower() # lower case the text\n",
      "    text = nltk.word_tokenize(text)\n",
      "    return text\n",
      "\n",
      "def remove_stop_words(text):\n",
      "    \"\"\"\n",
      "    Function that removes all stopwords from text\n",
      "    \"\"\"\n",
      "    return [word for word in text if word not in stop_words]\n",
      "\n",
      "def pos(word):\n",
      "    return nltk.pos_tag([word])[0][1]\n",
      "\n",
      "bad_pos = ['JJ']\n",
      "def remove_bad_pos(text):\n",
      "    \"\"\"\n",
      "    Function that removes all adjectives from text\n",
      "    \"\"\"\n",
      "    return [word for word in text if pos(word) not in bad_pos]\n",
      "\n",
      "stemmer = PorterStemmer()\n",
      "def stem_words(text):\n",
      "    \"\"\"\n",
      "    Function to stem words, so plural and singular are treated the same\n",
      "    \"\"\"\n",
      "    try:\n",
      "        text = [stemmer.stem(word) for word in text]\n",
      "        text = [word for word in text if len(word) > 1] # make sure we have no 1 letter words\n",
      "    except IndexError: # the word \"oed\" broke this, so needed try except\n",
      "        pass\n",
      "    return text\n",
      "\n",
      "def apply_all(text):\n",
      "    \"\"\"\n",
      "    This function applies all the functions above into one\n",
      "    \"\"\"\n",
      "    #return remove_stop_words(initial_clean(text))\n",
      "    return stem_words(remove_bad_pos(remove_stop_words(initial_clean(text))))"
     ],
     "language": "python",
     "metadata": {
      "colab": {},
      "colab_type": "code",
      "id": "fbTRSwxgTvUC"
     },
     "outputs": [],
     "prompt_number": 0
    },
    {
     "cell_type": "code",
     "collapsed": false,
     "input": [
      "def train_lda(data, chunksize):\n",
      "    \"\"\"\n",
      "    This function trains the lda model\n",
      "    We setup parameters like number of topics, the chunksize to use in Hoffman method\n",
      "    \"\"\"\n",
      "    dictionary = corpora.Dictionary(data['tokenized'])\n",
      "    corpus = [dictionary.doc2bow(doc) for doc in data['tokenized']]\n",
      "    t1 = time.time()\n",
      "    # low alpha means each document is only represented by a small number of topics, and vice versa\n",
      "    # low eta means each topic is only represented by a small number of words, and vice versa\n",
      "    lda = LdaModel(corpus=corpus, num_topics=num_topics, id2word=dictionary,\n",
      "                   alpha=1e-2, eta=0.5e-2, chunksize=chunksize, minimum_probability=0.0, passes=1)\n",
      "    t2 = time.time()\n",
      "    print(\"Time to train LDA model on \", len(df), \"businesses: \", (t2-t1)/60, \"min\")\n",
      "    return dictionary,corpus,lda"
     ],
     "language": "python",
     "metadata": {
      "colab": {},
      "colab_type": "code",
      "id": "2wpMk8BETxnA"
     },
     "outputs": [],
     "prompt_number": 0
    },
    {
     "cell_type": "code",
     "collapsed": false,
     "input": [
      "def train_hdp(data):\n",
      "    \"\"\"\n",
      "    This function trains the lda model\n",
      "    We setup parameters like number of topics, the chunksize to use in Hoffman method\n",
      "    \"\"\"\n",
      "    dictionary = corpora.Dictionary(data['tokenized'])\n",
      "    corpus = [dictionary.doc2bow(doc) for doc in data['tokenized']]\n",
      "    t1 = time.time()\n",
      "    # low alpha means each document is only represented by a small number of topics, and vice versa\n",
      "    # low eta means each topic is only represented by a small number of words, and vice versa\n",
      "    hdp = HdpModel(corpus=corpus, id2word=dictionary)\n",
      "    t2 = time.time()\n",
      "    print(\"Time to train HDP model on \", len(df), \"businesses: \", (t2-t1)/60, \"min\")\n",
      "    return hdp"
     ],
     "language": "python",
     "metadata": {
      "colab": {},
      "colab_type": "code",
      "id": "VOMcVS6WTeJz"
     },
     "outputs": [],
     "prompt_number": 0
    },
    {
     "cell_type": "code",
     "collapsed": false,
     "input": [
      "def jensen_shannon(query, matrix):\n",
      "    \"\"\"\n",
      "    This function implements a Jensen-Shannon similarity\n",
      "    between the input query (an LDA topic distribution for a document)\n",
      "    and the entire corpus of topic distributions.\n",
      "    It returns an array of length M where M is the number of documents in the corpus\n",
      "    \"\"\"\n",
      "    # lets keep with the p,q notation above\n",
      "    p = query[None,:].T # take transpose\n",
      "    q = matrix.T # transpose matrix\n",
      "    m = 0.5*(p + q)\n",
      "    return np.sqrt(0.5*(entropy(p,m) + entropy(q,m)))"
     ],
     "language": "python",
     "metadata": {
      "colab": {},
      "colab_type": "code",
      "id": "tc4I6vq5T1N6"
     },
     "outputs": [],
     "prompt_number": 0
    },
    {
     "cell_type": "code",
     "collapsed": false,
     "input": [
      "def get_most_similar_documents(query,matrix,k=10):\n",
      "    \"\"\"\n",
      "    This function implements the Jensen-Shannon distance above\n",
      "    and retruns the top k indices of the smallest jensen shannon distances\n",
      "    \"\"\"\n",
      "    sims = jensen_shannon(query,matrix) # list of jensen shannon distances\n",
      "    return sims.argsort()[:k] # the top k positional index of the smallest Jensen Shannon distances"
     ],
     "language": "python",
     "metadata": {
      "colab": {},
      "colab_type": "code",
      "id": "H8qJicnwT5Ka"
     },
     "outputs": [],
     "prompt_number": 0
    },
    {
     "cell_type": "code",
     "collapsed": false,
     "input": [
      "# format the columns\n",
      "df = pd.read_csv(csv_name)\n",
      "df = df.groupby(['name'])['text'].apply(' '.join).reset_index()\n",
      "df = df[df['text'].map(type) == str]\n",
      "df.dropna(axis=0, inplace=True, subset=['text'])\n",
      "\n",
      "# preprocess the text and business name and create new column \"tokenized\"\n",
      "t1 = time.time()\n",
      "df['tokenized'] = df['text'].apply(apply_all)\n",
      "t2 = time.time()\n",
      "print(\"Time to clean and tokenize\", len(df), \"businesses' reviews:\", (t2-t1)/60, \"min\")"
     ],
     "language": "python",
     "metadata": {
      "colab": {},
      "colab_type": "code",
      "id": "YdR22g-xTOCV"
     },
     "outputs": [],
     "prompt_number": 0
    },
    {
     "cell_type": "code",
     "collapsed": false,
     "input": [
      "# config\n",
      "k = 15000\n",
      "num_topics = 100"
     ],
     "language": "python",
     "metadata": {
      "colab": {},
      "colab_type": "code",
      "id": "_EiI6qhWCC7S"
     },
     "outputs": [],
     "prompt_number": 0
    },
    {
     "cell_type": "code",
     "collapsed": false,
     "input": [
      "# first get a list of all words\n",
      "all_words = [word for item in list(df['tokenized']) for word in item]\n",
      "\n",
      "# use nltk fdist to get a frequency distribution of all words\n",
      "fdist = FreqDist(all_words)\n",
      "\n",
      "# define a function only to keep words in the top k words\n",
      "top_k_words,_ = zip(*fdist.most_common(k))\n",
      "top_k_words = set(top_k_words)\n",
      "def keep_top_k_words(text):\n",
      "    return [word for word in text if word in top_k_words]\n",
      "df['tokenized'] = df['tokenized'].apply(keep_top_k_words)"
     ],
     "language": "python",
     "metadata": {
      "colab": {},
      "colab_type": "code",
      "id": "vXAL6BaNTf9Y"
     },
     "outputs": [],
     "prompt_number": 0
    },
    {
     "cell_type": "code",
     "collapsed": false,
     "input": [
      "# train the topic model\n",
      "hdp = train_hdp(df)"
     ],
     "language": "python",
     "metadata": {
      "colab": {
       "base_uri": "https://localhost:8080/",
       "height": 35
      },
      "colab_type": "code",
      "id": "2SZPV60mSnXH",
      "outputId": "07d1ebc3-dc4e-42f7-a5f7-90d34344a586"
     },
     "outputs": [],
     "prompt_number": 0
    },
    {
     "cell_type": "code",
     "collapsed": false,
     "input": [
      "topic_info = hdp.print_topics(num_topics=20, num_words=10)"
     ],
     "language": "python",
     "metadata": {
      "colab": {},
      "colab_type": "code",
      "id": "NCkdVcHSVM-T"
     },
     "outputs": [],
     "prompt_number": 0
    },
    {
     "cell_type": "code",
     "collapsed": false,
     "input": [
      "topic_info"
     ],
     "language": "python",
     "metadata": {
      "colab": {
       "base_uri": "https://localhost:8080/",
       "height": 745
      },
      "colab_type": "code",
      "id": "kiIUu0K5VRmp",
      "outputId": "0b76645f-6026-4bcf-832b-44cbad5989d6"
     },
     "outputs": [],
     "prompt_number": 0
    },
    {
     "cell_type": "code",
     "collapsed": false,
     "input": [
      "# train the topic model\n",
      "dictionary,corpus,lda = train_lda(df, 211)\n",
      "\n",
      "# get the topic distribution\n",
      "doc_topic_dist = np.array([[tup[1] for tup in lst] for lst in lda[corpus]])\n",
      "\n",
      "query = pd.read_csv('reviews_pittsburgh.csv')\n",
      "query = query.loc[query['name']=='Altius']\n",
      "query = query.groupby(['name'])['text'].apply(' '.join).reset_index()\n",
      "query = query[query['text'].map(type) == str]\n",
      "query.dropna(axis=0, inplace=True, subset=['text'])\n",
      "query['tokenized'] = query['text'].apply(apply_all)"
     ],
     "language": "python",
     "metadata": {
      "colab": {
       "base_uri": "https://localhost:8080/",
       "height": 72
      },
      "colab_type": "code",
      "id": "4YnYdjQzd2ax",
      "outputId": "dd90af0c-465a-4561-9003-833863ee98bc"
     },
     "outputs": [],
     "prompt_number": 0
    },
    {
     "cell_type": "code",
     "collapsed": false,
     "input": [
      "# get the ids of the most similar businesses\n",
      "new_bow = dictionary.doc2bow(query.iloc[0,2])\n",
      "new_doc_distribution = np.array([tup[1] for tup in lda.get_document_topics(bow=new_bow)])\n",
      "most_sim_ids = get_most_similar_documents(new_doc_distribution,doc_topic_dist)\n",
      "\n",
      "# print the results\n",
      "most_similar_df = df[df.index.isin(most_sim_ids)]\n",
      "print('Similar to \"{}\": \\n{}'.format(query['name'][0], most_similar_df['name'].reset_index(drop=True)))"
     ],
     "language": "python",
     "metadata": {
      "colab": {
       "base_uri": "https://localhost:8080/",
       "height": 235
      },
      "colab_type": "code",
      "id": "zONtAIhpfIV_",
      "outputId": "8dd228b1-033c-4404-ef16-11e981eb4a08"
     },
     "outputs": [],
     "prompt_number": 0
    },
    {
     "cell_type": "code",
     "collapsed": false,
     "input": [
      "import pickle"
     ],
     "language": "python",
     "metadata": {
      "colab": {},
      "colab_type": "code",
      "id": "CKyPIq2evIwA"
     },
     "outputs": [],
     "prompt_number": 0
    },
    {
     "cell_type": "code",
     "collapsed": false,
     "input": [
      "pickle.dump(doc_topic_dist,open(\"processor.pkl\",\"wb\"))"
     ],
     "language": "python",
     "metadata": {
      "colab": {},
      "colab_type": "code",
      "id": "QxVIPQXVu4xh"
     },
     "outputs": [],
     "prompt_number": 0
    },
    {
     "cell_type": "code",
     "collapsed": false,
     "input": [
      "preprocessed = pickle.load(open(\"processor.pkl\",\"rb\"))"
     ],
     "language": "python",
     "metadata": {
      "colab": {},
      "colab_type": "code",
      "id": "lDBy4J73vH3B"
     },
     "outputs": [],
     "prompt_number": 0
    },
    {
     "cell_type": "code",
     "collapsed": false,
     "input": [
      "most_sim_ids = get_most_similar_documents(new_doc_distribution,preprocessed)\n",
      "\n",
      "# print the results\n",
      "most_similar_df = df[df.index.isin(most_sim_ids)]\n",
      "print('Similar to \"{}\": \\n{}'.format(query['name'][0], most_similar_df['name'].reset_index(drop=True)))"
     ],
     "language": "python",
     "metadata": {
      "colab": {
       "base_uri": "https://localhost:8080/",
       "height": 235
      },
      "colab_type": "code",
      "id": "xnarrrSWvpHM",
      "outputId": "fd4437fd-daba-4e9e-a530-ebac794d350b"
     },
     "outputs": [],
     "prompt_number": 0
    },
    {
     "cell_type": "code",
     "collapsed": false,
     "input": [
      "def process_query(preprocessed, query):\n",
      "  # SQL to pandas DataFrame w/ query\n",
      "  query = query.groupby(['name'])['text'].apply(' '.join).reset_index()\n",
      "  query = query[query['text'].map(type) == str]\n",
      "  query.dropna(axis=0, inplace=True, subset=['text'])\n",
      "  query['tokenized'] = query['text'].apply(apply_all)\n",
      "  \n",
      "  # read the cached pickle\n",
      "  preprocessed = pickle.load(open(\"processor.pkl\",\"rb\"))\n",
      "  \n",
      "  # get the ids of the most similar businesses\n",
      "  new_bow = dictionary.doc2bow(query.iloc[0,2])\n",
      "  new_doc_distribution = np.array([tup[1] for tup in lda.get_document_topics(bow=new_bow)])\n",
      "  most_sim_ids = get_most_similar_documents(new_doc_distribution,preprocessed)\n",
      "\n",
      "  # print the results\n",
      "  most_similar_df = df[df.index.isin(most_sim_ids)]\n",
      "  print('Similar to \"{}\": \\n{}'.format(query['name'][0], most_similar_df['name'].reset_index(drop=True)))"
     ],
     "language": "python",
     "metadata": {
      "colab": {},
      "colab_type": "code",
      "id": "_OTkrbs7zvoo"
     },
     "outputs": [],
     "prompt_number": 0
    }
   ],
   "metadata": {}
  }
 ]
}