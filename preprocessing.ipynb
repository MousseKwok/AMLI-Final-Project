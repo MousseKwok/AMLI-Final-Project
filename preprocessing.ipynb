{
 "cells": [
  {
   "cell_type": "code",
   "execution_count": 1,
   "metadata": {},
   "outputs": [],
   "source": [
    "import pandas as pd"
   ]
  },
  {
   "cell_type": "code",
   "execution_count": 3,
   "metadata": {},
   "outputs": [],
   "source": [
    "businesses = pd.read_csv(\"business.csv\") "
   ]
  },
  {
   "cell_type": "code",
   "execution_count": 4,
   "metadata": {},
   "outputs": [],
   "source": [
    "columns = [\"attributes\",\"business_id\",\"categories\",\"city\",\"is_open\",\"latitude\",\"longitude\",\"name\",\"review_count\",\"stars\"]\n",
    "businesses = businesses.loc[:,columns]"
   ]
  },
  {
   "cell_type": "code",
   "execution_count": 5,
   "metadata": {},
   "outputs": [],
   "source": [
    "businesses_nlv = businesses.loc[(businesses[\"city\"]==\"North Las Vegas\") & (businesses[\"is_open\"]==1) ,:]"
   ]
  },
  {
   "cell_type": "code",
   "execution_count": 6,
   "metadata": {},
   "outputs": [],
   "source": [
    "businesses_nlv = businesses_nlv.drop(\"is_open\",axis = 1)"
   ]
  },
  {
   "cell_type": "code",
   "execution_count": 7,
   "metadata": {},
   "outputs": [],
   "source": [
    "businesses_nlv = businesses_nlv.reset_index(drop=True)"
   ]
  },
  {
   "cell_type": "code",
   "execution_count": 8,
   "metadata": {},
   "outputs": [],
   "source": [
    "businesses_nlv.to_csv(\"businesses_nlv.csv\")"
   ]
  },
  {
   "cell_type": "code",
   "execution_count": 16,
   "metadata": {},
   "outputs": [],
   "source": [
    "tmp = businesses_nlv.loc[:, [\"business_id\"]]"
   ]
  },
  {
   "cell_type": "code",
   "execution_count": 23,
   "metadata": {},
   "outputs": [],
   "source": [
    "tmp.to_csv(\"../business_tmp.csv\", index=False, header=False)"
   ]
  },
  {
   "cell_type": "code",
   "execution_count": 2,
   "metadata": {},
   "outputs": [],
   "source": [
    "reviews = pd.read_csv(\"review.csv\")"
   ]
  },
  {
   "cell_type": "code",
   "execution_count": 3,
   "metadata": {},
   "outputs": [],
   "source": [
    "reviews['business_id'] = reviews['business_id'].str[1:]"
   ]
  },
  {
   "cell_type": "code",
   "execution_count": 4,
   "metadata": {},
   "outputs": [],
   "source": [
    "reviews.to_csv(\"review_nlv.csv\", index=False)"
   ]
  },
  {
   "cell_type": "code",
   "execution_count": 5,
   "metadata": {},
   "outputs": [
    {
     "data": {
      "text/html": [
       "<div>\n",
       "<style scoped>\n",
       "    .dataframe tbody tr th:only-of-type {\n",
       "        vertical-align: middle;\n",
       "    }\n",
       "\n",
       "    .dataframe tbody tr th {\n",
       "        vertical-align: top;\n",
       "    }\n",
       "\n",
       "    .dataframe thead th {\n",
       "        text-align: right;\n",
       "    }\n",
       "</style>\n",
       "<table border=\"1\" class=\"dataframe\">\n",
       "  <thead>\n",
       "    <tr style=\"text-align: right;\">\n",
       "      <th></th>\n",
       "      <th>text</th>\n",
       "      <th>date</th>\n",
       "      <th>cool</th>\n",
       "      <th>funny</th>\n",
       "      <th>stars</th>\n",
       "      <th>business_id</th>\n",
       "      <th>useful</th>\n",
       "      <th>user_id</th>\n",
       "      <th>review_id</th>\n",
       "    </tr>\n",
       "  </thead>\n",
       "  <tbody>\n",
       "    <tr>\n",
       "      <th>0</th>\n",
       "      <td>Had the Tonkotsu ramen for lunch upon the reco...</td>\n",
       "      <td>2017-05-02 20:37:33 UTC</td>\n",
       "      <td>0</td>\n",
       "      <td>0</td>\n",
       "      <td>4</td>\n",
       "      <td>DnaKAs2oK3rXfrjSvn9ew</td>\n",
       "      <td>0</td>\n",
       "      <td>70p7ZC7JNkAn4YHJL2oLqQ</td>\n",
       "      <td>SvrM4R0Sn1085JldYArCwA</td>\n",
       "    </tr>\n",
       "    <tr>\n",
       "      <th>1</th>\n",
       "      <td>Service was quick, food was excellent am glad ...</td>\n",
       "      <td>2015-10-09 01:30:39 UTC</td>\n",
       "      <td>0</td>\n",
       "      <td>0</td>\n",
       "      <td>5</td>\n",
       "      <td>DnaKAs2oK3rXfrjSvn9ew</td>\n",
       "      <td>0</td>\n",
       "      <td>vRhxHrWwHpPDbzzKsCKIQw</td>\n",
       "      <td>6p-MEBAuZ4dhOA1k24vgdw</td>\n",
       "    </tr>\n",
       "    <tr>\n",
       "      <th>2</th>\n",
       "      <td>I actually think that the place is a 3.5, so, ...</td>\n",
       "      <td>2015-06-07 00:33:50 UTC</td>\n",
       "      <td>0</td>\n",
       "      <td>0</td>\n",
       "      <td>4</td>\n",
       "      <td>DnaKAs2oK3rXfrjSvn9ew</td>\n",
       "      <td>0</td>\n",
       "      <td>Bxf1jhd66YvcI0GFTIh3yQ</td>\n",
       "      <td>5P--fn1aEuuzsRiIgRcfCA</td>\n",
       "    </tr>\n",
       "    <tr>\n",
       "      <th>3</th>\n",
       "      <td>I eat alot of ramen and alot of curry.. but i ...</td>\n",
       "      <td>2017-07-22 20:35:05 UTC</td>\n",
       "      <td>0</td>\n",
       "      <td>0</td>\n",
       "      <td>5</td>\n",
       "      <td>DnaKAs2oK3rXfrjSvn9ew</td>\n",
       "      <td>0</td>\n",
       "      <td>eRwwZ7CjgDuywdNZ_mtgKQ</td>\n",
       "      <td>XJLHswUbJYbzj9CmHpIsSw</td>\n",
       "    </tr>\n",
       "    <tr>\n",
       "      <th>4</th>\n",
       "      <td>Stopped in on a whim with my husband. Our stom...</td>\n",
       "      <td>2016-01-03 02:22:19 UTC</td>\n",
       "      <td>0</td>\n",
       "      <td>0</td>\n",
       "      <td>5</td>\n",
       "      <td>DnaKAs2oK3rXfrjSvn9ew</td>\n",
       "      <td>0</td>\n",
       "      <td>PBSkpQxdUzx-4LyvEgX1KQ</td>\n",
       "      <td>FieX2hOMO2R0z5hj59sXCg</td>\n",
       "    </tr>\n",
       "  </tbody>\n",
       "</table>\n",
       "</div>"
      ],
      "text/plain": [
       "                                                text                     date  \\\n",
       "0  Had the Tonkotsu ramen for lunch upon the reco...  2017-05-02 20:37:33 UTC   \n",
       "1  Service was quick, food was excellent am glad ...  2015-10-09 01:30:39 UTC   \n",
       "2  I actually think that the place is a 3.5, so, ...  2015-06-07 00:33:50 UTC   \n",
       "3  I eat alot of ramen and alot of curry.. but i ...  2017-07-22 20:35:05 UTC   \n",
       "4  Stopped in on a whim with my husband. Our stom...  2016-01-03 02:22:19 UTC   \n",
       "\n",
       "   cool  funny  stars            business_id  useful                 user_id  \\\n",
       "0     0      0      4  DnaKAs2oK3rXfrjSvn9ew       0  70p7ZC7JNkAn4YHJL2oLqQ   \n",
       "1     0      0      5  DnaKAs2oK3rXfrjSvn9ew       0  vRhxHrWwHpPDbzzKsCKIQw   \n",
       "2     0      0      4  DnaKAs2oK3rXfrjSvn9ew       0  Bxf1jhd66YvcI0GFTIh3yQ   \n",
       "3     0      0      5  DnaKAs2oK3rXfrjSvn9ew       0  eRwwZ7CjgDuywdNZ_mtgKQ   \n",
       "4     0      0      5  DnaKAs2oK3rXfrjSvn9ew       0  PBSkpQxdUzx-4LyvEgX1KQ   \n",
       "\n",
       "                review_id  \n",
       "0  SvrM4R0Sn1085JldYArCwA  \n",
       "1  6p-MEBAuZ4dhOA1k24vgdw  \n",
       "2  5P--fn1aEuuzsRiIgRcfCA  \n",
       "3  XJLHswUbJYbzj9CmHpIsSw  \n",
       "4  FieX2hOMO2R0z5hj59sXCg  "
      ]
     },
     "execution_count": 5,
     "metadata": {},
     "output_type": "execute_result"
    }
   ],
   "source": [
    "b = pd.read_csv(\"businesses_nlv.csv\") \n",
    "r = pd.read_csv(\"review_nlv.csv\") "
   ]
  },
  {
   "cell_type": "code",
   "execution_count": 9,
   "metadata": {},
   "outputs": [
    {
     "data": {
      "text/plain": [
       "False"
      ]
     },
     "execution_count": 9,
     "metadata": {},
     "output_type": "execute_result"
    }
   ],
   "source": [
    "b.review_count.isnull().any()"
   ]
  },
  {
   "cell_type": "code",
   "execution_count": 11,
   "metadata": {},
   "outputs": [
    {
     "data": {
      "text/plain": [
       "43826"
      ]
     },
     "execution_count": 11,
     "metadata": {},
     "output_type": "execute_result"
    }
   ],
   "source": [
    "b.review_count.sum()"
   ]
  },
  {
   "cell_type": "code",
   "execution_count": 12,
   "metadata": {},
   "outputs": [
    {
     "data": {
      "text/plain": [
       "45606"
      ]
     },
     "execution_count": 12,
     "metadata": {},
     "output_type": "execute_result"
    }
   ],
   "source": [
    "len(r)"
   ]
  }
 ],
 "metadata": {
  "kernelspec": {
   "display_name": "Python 3",
   "language": "python",
   "name": "python3"
  },
  "language_info": {
   "codemirror_mode": {
    "name": "ipython",
    "version": 3
   },
   "file_extension": ".py",
   "mimetype": "text/x-python",
   "name": "python",
   "nbconvert_exporter": "python",
   "pygments_lexer": "ipython3",
   "version": "3.7.3"
  }
 },
 "nbformat": 4,
 "nbformat_minor": 2
}
