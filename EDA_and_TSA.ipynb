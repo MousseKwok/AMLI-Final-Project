{
 "metadata": {
  "kernelspec": {
   "display_name": "Python 3",
   "language": "python",
   "name": "python3"
  },
  "language_info": {
   "codemirror_mode": {
    "name": "ipython",
    "version": 3
   },
   "file_extension": ".py",
   "mimetype": "text/x-python",
   "name": "python",
   "nbconvert_exporter": "python",
   "pygments_lexer": "ipython3",
   "version": "3.6.8"
  },
  "name": ""
 },
 "nbformat": 3,
 "nbformat_minor": 0,
 "worksheets": [
  {
   "cells": [
    {
     "cell_type": "markdown",
     "metadata": {},
     "source": [
      "# EDA and Time-Series Analysis\n",
      "7.9.19, 7.10.19"
     ]
    },
    {
     "cell_type": "code",
     "collapsed": false,
     "input": [
      "# Import the things\n",
      "\n",
      "%matplotlib inline\n",
      "import matplotlib.pyplot as plt\n",
      "import seaborn as sb\n",
      "\n",
      "import numpy as np\n",
      "import pandas as pd"
     ],
     "language": "python",
     "metadata": {},
     "outputs": [],
     "prompt_number": 13
    },
    {
     "cell_type": "code",
     "collapsed": false,
     "input": [
      "# Import NLTK\n",
      "from collections import Counter\n",
      "import re\n",
      "import string\n",
      "import nltk\n",
      "import requests"
     ],
     "language": "python",
     "metadata": {},
     "outputs": [],
     "prompt_number": 3
    },
    {
     "cell_type": "code",
     "collapsed": false,
     "input": [
      "df = pd.read_csv('csv_business.csv')\n",
      "df.head()"
     ],
     "language": "python",
     "metadata": {},
     "outputs": [],
     "prompt_number": null
    },
    {
     "cell_type": "code",
     "collapsed": false,
     "input": [
      "df.columns"
     ],
     "language": "python",
     "metadata": {},
     "outputs": [],
     "prompt_number": null
    },
    {
     "cell_type": "code",
     "collapsed": false,
     "input": [
      "df.shape"
     ],
     "language": "python",
     "metadata": {},
     "outputs": [],
     "prompt_number": null
    },
    {
     "cell_type": "code",
     "collapsed": false,
     "input": [
      "df2 = pd.read_csv('csv_businesses_nlv.csv')\n",
      "df2.head()"
     ],
     "language": "python",
     "metadata": {},
     "outputs": [],
     "prompt_number": null
    },
    {
     "cell_type": "code",
     "collapsed": false,
     "input": [
      "df2.shape"
     ],
     "language": "python",
     "metadata": {},
     "outputs": [],
     "prompt_number": null
    },
    {
     "cell_type": "code",
     "collapsed": false,
     "input": [
      "df3 = pd.read_csv('csv_business2.csv')\n",
      "df3.head()"
     ],
     "language": "python",
     "metadata": {},
     "outputs": [],
     "prompt_number": null
    },
    {
     "cell_type": "code",
     "collapsed": false,
     "input": [
      "df3.shape"
     ],
     "language": "python",
     "metadata": {},
     "outputs": [],
     "prompt_number": null
    },
    {
     "cell_type": "code",
     "collapsed": false,
     "input": [
      "reviews = df4['text'].tolist()\n",
      "reviews"
     ],
     "language": "python",
     "metadata": {},
     "outputs": [],
     "prompt_number": 34
    },
    {
     "cell_type": "markdown",
     "metadata": {},
     "source": [
      "## 1. Formulate your questions\n",
      "\n",
      "What does the data look like? "
     ]
    },
    {
     "cell_type": "heading",
     "level": 2,
     "metadata": {},
     "source": [
      "2. Load in the Data"
     ]
    },
    {
     "cell_type": "code",
     "collapsed": false,
     "input": [
      "df4 = pd.read_csv('csv_review_nlv.csv')\n",
      "df4.head()"
     ],
     "language": "python",
     "metadata": {},
     "outputs": [],
     "prompt_number": 11
    },
    {
     "cell_type": "heading",
     "level": 2,
     "metadata": {},
     "source": [
      "3. Check the packaging"
     ]
    },
    {
     "cell_type": "code",
     "collapsed": false,
     "input": [
      "df4.shape"
     ],
     "language": "python",
     "metadata": {},
     "outputs": [],
     "prompt_number": 12
    },
    {
     "cell_type": "code",
     "collapsed": false,
     "input": [
      "df4.columns"
     ],
     "language": "python",
     "metadata": {},
     "outputs": [],
     "prompt_number": 16
    },
    {
     "cell_type": "heading",
     "level": 2,
     "metadata": {},
     "source": [
      "4. Look at the Top and Bottom of the Data"
     ]
    },
    {
     "cell_type": "code",
     "collapsed": false,
     "input": [
      "df4.head()"
     ],
     "language": "python",
     "metadata": {},
     "outputs": [],
     "prompt_number": 14
    },
    {
     "cell_type": "code",
     "collapsed": false,
     "input": [
      "df4.tail()"
     ],
     "language": "python",
     "metadata": {},
     "outputs": [],
     "prompt_number": 15
    },
    {
     "cell_type": "heading",
     "level": 2,
     "metadata": {},
     "source": [
      "5. Check the \"n's\""
     ]
    },
    {
     "cell_type": "markdown",
     "metadata": {},
     "source": [
      "Stars should only go from 1-5 "
     ]
    },
    {
     "cell_type": "code",
     "collapsed": false,
     "input": [
      "df4['stars'].value_counts()"
     ],
     "language": "python",
     "metadata": {},
     "outputs": [],
     "prompt_number": 22
    },
    {
     "cell_type": "markdown",
     "metadata": {},
     "source": [
      "Check the dates of the CSV -- see if they are in any order (they probably aren't because c'est la vie) "
     ]
    },
    {
     "cell_type": "code",
     "collapsed": false,
     "input": [
      "df4['date'].head()"
     ],
     "language": "python",
     "metadata": {},
     "outputs": [],
     "prompt_number": 27
    },
    {
     "cell_type": "code",
     "collapsed": false,
     "input": [
      "df4['date'].tail()"
     ],
     "language": "python",
     "metadata": {},
     "outputs": [],
     "prompt_number": 28
    },
    {
     "cell_type": "markdown",
     "metadata": {},
     "source": [
      "Look at the 'Cool' column "
     ]
    },
    {
     "cell_type": "code",
     "collapsed": false,
     "input": [
      "df4['cool'].value_counts()"
     ],
     "language": "python",
     "metadata": {},
     "outputs": [],
     "prompt_number": 63
    },
    {
     "cell_type": "markdown",
     "metadata": {},
     "source": [
      "So the highest number of \"cool's\" a review got was 63, but the majority was 0 "
     ]
    },
    {
     "cell_type": "markdown",
     "metadata": {},
     "source": [
      "Look at the 'Funny' column "
     ]
    },
    {
     "cell_type": "code",
     "collapsed": false,
     "input": [
      "df4['funny'].value_counts()"
     ],
     "language": "python",
     "metadata": {},
     "outputs": [],
     "prompt_number": 30
    },
    {
     "cell_type": "markdown",
     "metadata": {},
     "source": [
      "So the highest number of \"funny's\" a review got was 72, but the majority was also 0 "
     ]
    },
    {
     "cell_type": "markdown",
     "metadata": {},
     "source": [
      "See what's up with the \"useful\" column -- see if it's actually living up to its name "
     ]
    },
    {
     "cell_type": "code",
     "collapsed": false,
     "input": [
      "df4['useful'].value_counts()"
     ],
     "language": "python",
     "metadata": {},
     "outputs": [],
     "prompt_number": 31
    },
    {
     "cell_type": "markdown",
     "metadata": {},
     "source": [
      "See if there is any correlation between stars and cool and funny "
     ]
    },
    {
     "cell_type": "code",
     "collapsed": false,
     "input": [
      "sb.catplot(x='stars',y='cool',data=df4,kind='bar',color='lightblue')"
     ],
     "language": "python",
     "metadata": {},
     "outputs": [],
     "prompt_number": 48
    },
    {
     "cell_type": "code",
     "collapsed": false,
     "input": [
      "sb.catplot(x='stars',y='funny',data=df4,kind='bar',color='purple')"
     ],
     "language": "python",
     "metadata": {},
     "outputs": [],
     "prompt_number": 49
    },
    {
     "cell_type": "markdown",
     "metadata": {},
     "source": [
      "See if there's any correlation between stars and useful "
     ]
    },
    {
     "cell_type": "code",
     "collapsed": false,
     "input": [
      "sb.catplot(x='stars',y='useful',data=df4,kind='bar',color='orange')"
     ],
     "language": "python",
     "metadata": {},
     "outputs": [],
     "prompt_number": 50
    },
    {
     "cell_type": "heading",
     "level": 2,
     "metadata": {},
     "source": [
      "6. Validate against an external source (check with other csv)"
     ]
    },
    {
     "cell_type": "code",
     "collapsed": false,
     "input": [],
     "language": "python",
     "metadata": {},
     "outputs": [],
     "prompt_number": null
    },
    {
     "cell_type": "heading",
     "level": 2,
     "metadata": {},
     "source": [
      "7. Make a plot (or multiple) "
     ]
    },
    {
     "cell_type": "code",
     "collapsed": false,
     "input": [
      "df4['stars'].hist(bins=20)"
     ],
     "language": "python",
     "metadata": {},
     "outputs": [],
     "prompt_number": 40
    },
    {
     "cell_type": "code",
     "collapsed": false,
     "input": [
      "# Majority of the ratings are 5 stars and the least amount of ratings are 2 stars \n",
      "\n",
      "df4['stars'].value_counts()"
     ],
     "language": "python",
     "metadata": {},
     "outputs": [],
     "prompt_number": 61
    },
    {
     "cell_type": "code",
     "collapsed": false,
     "input": [
      "df4['cool'].hist()"
     ],
     "language": "python",
     "metadata": {},
     "outputs": [],
     "prompt_number": 42
    },
    {
     "cell_type": "markdown",
     "metadata": {},
     "source": [
      "Interesting that there's a long tail"
     ]
    },
    {
     "cell_type": "code",
     "collapsed": false,
     "input": [
      "df4['funny'].hist()"
     ],
     "language": "python",
     "metadata": {},
     "outputs": [],
     "prompt_number": 43
    },
    {
     "cell_type": "heading",
     "level": 2,
     "metadata": {},
     "source": [
      "8. Try an easy solution "
     ]
    },
    {
     "cell_type": "code",
     "collapsed": false,
     "input": [],
     "language": "python",
     "metadata": {},
     "outputs": [],
     "prompt_number": null
    },
    {
     "cell_type": "heading",
     "level": 2,
     "metadata": {},
     "source": [
      "9. Do whatevs lmao tf "
     ]
    },
    {
     "cell_type": "markdown",
     "metadata": {},
     "source": [
      "Try a Smf.ols thing lol "
     ]
    },
    {
     "cell_type": "code",
     "collapsed": false,
     "input": [
      "# Import more things! \n",
      "import statsmodels.formula.api as smf\n",
      "import statsmodels.api as sm"
     ],
     "language": "python",
     "metadata": {},
     "outputs": [],
     "prompt_number": 52
    },
    {
     "cell_type": "code",
     "collapsed": false,
     "input": [
      "m0 = smf.ols('date ~ text',data=df4).fit()\n",
      "m0.summary()"
     ],
     "language": "python",
     "metadata": {},
     "outputs": [],
     "prompt_number": null
    },
    {
     "cell_type": "markdown",
     "metadata": {},
     "source": [
      "Re-load dataset but parsed by date"
     ]
    },
    {
     "cell_type": "code",
     "collapsed": false,
     "input": [
      "nlv_time = pd.read_csv('csv_review_nlv.csv',parse_dates=['date'])\n",
      "\n",
      "nlv_time.head()"
     ],
     "language": "python",
     "metadata": {},
     "outputs": [],
     "prompt_number": 26
    },
    {
     "cell_type": "markdown",
     "metadata": {},
     "source": [
      "Make a new column of all the cool, funny and useful votes"
     ]
    },
    {
     "cell_type": "code",
     "collapsed": false,
     "input": [
      "nlv_time['total_count'] = nlv_time[['cool','funny','useful']].sum(axis=1)\n",
      "\n",
      "nlv_time.tail()"
     ],
     "language": "python",
     "metadata": {},
     "outputs": [],
     "prompt_number": 57
    },
    {
     "cell_type": "code",
     "collapsed": false,
     "input": [
      "sb.catplot(x='stars',y='total_count',data=nlv_time,kind='bar',color='yellow')"
     ],
     "language": "python",
     "metadata": {},
     "outputs": [],
     "prompt_number": 60
    },
    {
     "cell_type": "code",
     "collapsed": false,
     "input": [
      "#g = sb.catplot(x='date',y='total_count',hue='stars',data=nlv_time,kind='point',aspect=2,dodge=True)\n",
      "\n",
      "# Re-scale axes to log-scale to see differences\n",
      "# axs = g.axes.flat\n",
      "# for ax in axs:\n",
      "#     ax.set_ylim((1e1,1e4))\n",
      "#     ax.set_yscale('log')"
     ],
     "language": "python",
     "metadata": {},
     "outputs": [],
     "prompt_number": 83
    },
    {
     "cell_type": "code",
     "collapsed": false,
     "input": [
      "# Taking a very long time to run :( \n",
      "g = sb.catplot(x='date',y='total_count',data=nlv_time, kind='point',aspect=2,dodge=True)"
     ],
     "language": "python",
     "metadata": {},
     "outputs": [],
     "prompt_number": null
    },
    {
     "cell_type": "markdown",
     "metadata": {},
     "source": [
      "Show top 10 rated reviews based on their \"upvotes\"\n",
      "- Note that the top 10 rated reviews based on stars wouldn't be useful since they'd all just be 5 stars (?)"
     ]
    },
    {
     "cell_type": "code",
     "collapsed": false,
     "input": [
      "nlv_time.groupby('text')[['total_count', 'stars']].mean().sort_values(by='total_count', ascending=False).head(10)"
     ],
     "language": "python",
     "metadata": {},
     "outputs": [],
     "prompt_number": 78
    },
    {
     "cell_type": "code",
     "collapsed": false,
     "input": [
      "nlv_time.groupby('text')[['total_count','stars']].mean().sort_values(by='stars', ascending=False).head(10)"
     ],
     "language": "python",
     "metadata": {},
     "outputs": [],
     "prompt_number": 80
    },
    {
     "cell_type": "markdown",
     "metadata": {},
     "source": [
      "Show the worst 10 rated reviews based on the rating and upvotes \n",
      "- Note that the worst rated reviews based on stars is only semi-useful because we know they'll all be 1 star ratings, but also their \"upvotes\" won't be extremely useful because it's already a bad place-- but if it's considered cool, funny, or useful, could mean people were looking at them regardless to see just how bad a place is due to X. "
     ]
    },
    {
     "cell_type": "code",
     "collapsed": false,
     "input": [
      "nlv_time.groupby('text')[['total_count','stars']].mean().sort_values(by='stars').head(10)"
     ],
     "language": "python",
     "metadata": {},
     "outputs": [],
     "prompt_number": 81
    },
    {
     "cell_type": "code",
     "collapsed": false,
     "input": [
      "nlv_time.groupby('text')[['total_count','stars']].mean().sort_values(by='total_count').head(10)"
     ],
     "language": "python",
     "metadata": {},
     "outputs": [],
     "prompt_number": 82
    },
    {
     "cell_type": "heading",
     "level": 3,
     "metadata": {},
     "source": [
      "Mini time-series analysis attempt"
     ]
    },
    {
     "cell_type": "code",
     "collapsed": false,
     "input": [
      "# Set up the plotting environment\n",
      "f,ax = plt.subplots(1,1,figsize=(8,4))\n",
      "\n",
      "# Put the \"date\" column as an index, access the remaining \"passengers\" column, and plot on the ax defined above\n",
      "nlv_time.set_index('date')['stars'].plot(c='k',lw=0.5,ax=ax) #lw = linewidth \n",
      "\n",
      "# Make a vertical red line on December 18, 2014, the date when Yelp launched their mobile app \n",
      "ax.axvline(pd.Timestamp('2014-12-18'),color='r',ls='--',lw=1)"
     ],
     "language": "python",
     "metadata": {},
     "outputs": [],
     "prompt_number": 46
    },
    {
     "cell_type": "code",
     "collapsed": false,
     "input": [],
     "language": "python",
     "metadata": {},
     "outputs": [],
     "prompt_number": null
    },
    {
     "cell_type": "code",
     "collapsed": false,
     "input": [],
     "language": "python",
     "metadata": {},
     "outputs": [],
     "prompt_number": null
    }
   ],
   "metadata": {}
  }
 ]
}